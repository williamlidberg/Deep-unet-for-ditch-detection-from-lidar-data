{
  "nbformat": 4,
  "nbformat_minor": 0,
  "metadata": {
    "colab": {
      "name": "RIP Nature Results.ipynb",
      "provenance": [],
      "collapsed_sections": [],
      "authorship_tag": "ABX9TyOv/8vxw30QkLYbeo5chmnE",
      "include_colab_link": true
    },
    "kernelspec": {
      "name": "python3",
      "display_name": "Python 3"
    },
    "language_info": {
      "name": "python"
    }
  },
  "cells": [
    {
      "cell_type": "markdown",
      "metadata": {
        "id": "view-in-github",
        "colab_type": "text"
      },
      "source": [
        "<a href=\"https://colab.research.google.com/github/williamlidberg/Mapping-drainage-ditches-in-forested-landscapes-using-deep-learning-and-aerial-laser-scanning/blob/DitchNet-0.5-m-resolution/RIP_Nature_Results.ipynb\" target=\"_parent\"><img src=\"https://colab.research.google.com/assets/colab-badge.svg\" alt=\"Open In Colab\"/></a>"
      ]
    },
    {
      "cell_type": "markdown",
      "metadata": {
        "id": "Dm-BSAc8O8eH"
      },
      "source": [
        "## Clone repository"
      ]
    },
    {
      "cell_type": "code",
      "metadata": {
        "colab": {
          "base_uri": "https://localhost:8080/"
        },
        "id": "F5tkQ0o6ElIo",
        "outputId": "f2770387-7b8f-45ae-8ef8-c0d48813c929"
      },
      "source": [
        "!git clone https://github.com/williamlidberg/RIP-Nature\n",
        "%cd /content/RIP-Nature/Results/\n",
        "!ls"
      ],
      "execution_count": 3,
      "outputs": [
        {
          "output_type": "stream",
          "name": "stdout",
          "text": [
            "Cloning into 'RIP-Nature'...\n",
            "remote: Enumerating objects: 25, done.\u001b[K\n",
            "remote: Counting objects: 100% (25/25), done.\u001b[K\n",
            "remote: Compressing objects: 100% (24/24), done.\u001b[K\n",
            "remote: Total 25 (delta 11), reused 0 (delta 0), pack-reused 0\u001b[K\n",
            "Unpacking objects: 100% (25/25), done.\n",
            "/content/RIP-Nature/Results\n",
            "canada_post_harvest_buffers_william.cpg\n",
            "canada_post_harvest_buffers_william.dbf\n",
            "canada_post_harvest_buffers_william.dbf.xml\n",
            "canada_pre_harvest_buffers_william.cpg\n",
            "canada_pre_harvest_buffers_william.dbf\n",
            "canada_pre_harvest_buffers_william.dbf.xml\n",
            "RIP-Nature\n",
            "sweden_post_harvest_buffers_william.cpg\n",
            "sweden_post_harvest_buffers_william.dbf\n",
            "sweden_post_harvest_buffers_william.dbf.xml\n",
            "sweden_pre_harvest_buffers_william.cpg\n",
            "sweden_pre_harvest_buffers_william.dbf\n",
            "sweden_pre_harvest_buffers_william.dbf.xml\n"
          ]
        }
      ]
    },
    {
      "cell_type": "code",
      "metadata": {
        "colab": {
          "base_uri": "https://localhost:8080/"
        },
        "id": "eQwdR0DyE-5x",
        "outputId": "dd6727f6-113c-4a4e-d070-fee21d055823"
      },
      "source": [
        "!pip install simpledbf"
      ],
      "execution_count": 4,
      "outputs": [
        {
          "output_type": "stream",
          "name": "stdout",
          "text": [
            "Collecting simpledbf\n",
            "  Downloading simpledbf-0.2.6.tar.gz (17 kB)\n",
            "Building wheels for collected packages: simpledbf\n",
            "  Building wheel for simpledbf (setup.py) ... \u001b[?25l\u001b[?25hdone\n",
            "  Created wheel for simpledbf: filename=simpledbf-0.2.6-py3-none-any.whl size=13801 sha256=be791e48558de489d7228e69e088530d328ae383b4913b0affcd0289716e11ef\n",
            "  Stored in directory: /root/.cache/pip/wheels/24/43/f4/39ad84349e5358346be977fe626160f5625fdd3ea8e017518c\n",
            "Successfully built simpledbf\n",
            "Installing collected packages: simpledbf\n",
            "Successfully installed simpledbf-0.2.6\n"
          ]
        }
      ]
    },
    {
      "cell_type": "code",
      "metadata": {
        "id": "4_9kXCZxMOCU"
      },
      "source": [
        "from simpledbf import Dbf5\n",
        "import pandas as pd\n",
        "# Sweden\n",
        "sweden_post_harvest = Dbf5('/content/RIP-Nature/Results/sweden_post_harvest_buffers_william.dbf')\n",
        "sweden_post_harvest = sweden_post_harvest.to_dataframe()\n",
        "sweden_pre_harvest = Dbf5('/content/RIP-Nature/Results/sweden_pre_harvest_buffers_william.dbf')\n",
        "sweden_pre_harvest = sweden_pre_harvest.to_dataframe()\n",
        "\n",
        "# NB\n",
        "nb_post_harvest = Dbf5('/content/RIP-Nature/Results/canada_post_harvest_buffers_william.dbf')\n",
        "nb_post_harvest = nb_post_harvest.to_dataframe()\n",
        "nb_pre_harvest = Dbf5('/content/RIP-Nature/Results/canada_pre_harvest_buffers_william.dbf')\n",
        "nb_pre_harvest = nb_pre_harvest.to_dataframe()"
      ],
      "execution_count": 5,
      "outputs": []
    },
    {
      "cell_type": "code",
      "metadata": {
        "colab": {
          "base_uri": "https://localhost:8080/",
          "height": 206
        },
        "id": "6u1Ir4WcMUbS",
        "outputId": "ad239e7e-f00d-4efb-9219-d694578cba84"
      },
      "source": [
        "sweden_post_harvest.head()"
      ],
      "execution_count": 6,
      "outputs": [
        {
          "output_type": "execute_result",
          "data": {
            "text/html": [
              "<div>\n",
              "<style scoped>\n",
              "    .dataframe tbody tr th:only-of-type {\n",
              "        vertical-align: middle;\n",
              "    }\n",
              "\n",
              "    .dataframe tbody tr th {\n",
              "        vertical-align: top;\n",
              "    }\n",
              "\n",
              "    .dataframe thead th {\n",
              "        text-align: right;\n",
              "    }\n",
              "</style>\n",
              "<table border=\"1\" class=\"dataframe\">\n",
              "  <thead>\n",
              "    <tr style=\"text-align: right;\">\n",
              "      <th></th>\n",
              "      <th>FID_</th>\n",
              "      <th>COUNT</th>\n",
              "      <th>AREA</th>\n",
              "      <th>SUM</th>\n",
              "    </tr>\n",
              "  </thead>\n",
              "  <tbody>\n",
              "    <tr>\n",
              "      <th>0</th>\n",
              "      <td>0</td>\n",
              "      <td>85.0</td>\n",
              "      <td>340.0</td>\n",
              "      <td>0.0</td>\n",
              "    </tr>\n",
              "    <tr>\n",
              "      <th>1</th>\n",
              "      <td>1</td>\n",
              "      <td>294.0</td>\n",
              "      <td>1176.0</td>\n",
              "      <td>218.0</td>\n",
              "    </tr>\n",
              "    <tr>\n",
              "      <th>2</th>\n",
              "      <td>2</td>\n",
              "      <td>1749.0</td>\n",
              "      <td>6996.0</td>\n",
              "      <td>642.0</td>\n",
              "    </tr>\n",
              "    <tr>\n",
              "      <th>3</th>\n",
              "      <td>3</td>\n",
              "      <td>620.0</td>\n",
              "      <td>2480.0</td>\n",
              "      <td>410.0</td>\n",
              "    </tr>\n",
              "    <tr>\n",
              "      <th>4</th>\n",
              "      <td>4</td>\n",
              "      <td>1349.0</td>\n",
              "      <td>5396.0</td>\n",
              "      <td>494.0</td>\n",
              "    </tr>\n",
              "  </tbody>\n",
              "</table>\n",
              "</div>"
            ],
            "text/plain": [
              "   FID_   COUNT    AREA    SUM\n",
              "0     0    85.0   340.0    0.0\n",
              "1     1   294.0  1176.0  218.0\n",
              "2     2  1749.0  6996.0  642.0\n",
              "3     3   620.0  2480.0  410.0\n",
              "4     4  1349.0  5396.0  494.0"
            ]
          },
          "metadata": {},
          "execution_count": 6
        }
      ]
    },
    {
      "cell_type": "markdown",
      "metadata": {
        "id": "92veX86ISE9i"
      },
      "source": [
        "\n",
        "\n",
        "*   COUNT is the number of 2 m x 2 m cells within the buffer polygon\n",
        "*   Area in square meters of the buffer polygon\n",
        "*   SUM is the number of canopy cells above 5 m. multiply it by to get area in square meters\n",
        "\n",
        "\n",
        "\n",
        "\n"
      ]
    },
    {
      "cell_type": "code",
      "metadata": {
        "id": "Y2JGwXbASbD7"
      },
      "source": [
        "import numpy as np\n",
        "# Sweden\n",
        "sweden_post_harvest['canopy_coverage'] = ((sweden_post_harvest['SUM'] * 4) / sweden_post_harvest['AREA'])*100\n",
        "sweden_pre_harvest['canopy_coverage'] = ((sweden_pre_harvest['SUM'] * 4) / sweden_pre_harvest['AREA'])*100\n",
        "\n",
        "# New Brunswick\n",
        "nb_post_harvest['canopy_coverage'] = ((nb_post_harvest['SUM'] * 4) / nb_post_harvest['AREA'])*100\n",
        "nb_pre_harvest['canopy_coverage'] = ((nb_pre_harvest['SUM'] * 4) / nb_pre_harvest['AREA'])*100\n",
        "                                     \n"
      ],
      "execution_count": 200,
      "outputs": []
    },
    {
      "cell_type": "code",
      "metadata": {
        "colab": {
          "base_uri": "https://localhost:8080/",
          "height": 615
        },
        "id": "9QS_U2dCS_VB",
        "outputId": "77e5780e-5432-46a6-f82b-4745c5ac3f87"
      },
      "source": [
        "import numpy as np\n",
        "import matplotlib.pyplot as plt\n",
        "from matplotlib.ticker import PercentFormatter\n",
        "from matplotlib.pyplot import figure\n",
        "# post harvest\n",
        "nb_coverage = nb_post_harvest['canopy_coverage']\n",
        "sweden_coverage = sweden_post_harvest['canopy_coverage']\n",
        "finland_coverage = sweden_post_harvest['canopy_coverage']\n",
        "# before harvest\n",
        "nb_before = nb_pre_harvest['canopy_coverage']\n",
        "sweden_before = sweden_pre_harvest['canopy_coverage']\n",
        "finland_before = sweden_pre_harvest['canopy_coverage']\n",
        "\n",
        "\n",
        "nbins = 10\n",
        "fig,ax = plt.subplots(1,3,figsize=(8,4),dpi=200,sharey=True)\n",
        "\n",
        "fig.text(0.5, 0.04, 'Distribution', ha='center')\n",
        "fig.text(0.04, 0.5, 'Canopy coverage', va='center', rotation='vertical')\n",
        "ax[0].hist(nb_coverage,density=False, weights=np.ones_like(nb_coverage)*100./ len(nb_coverage), color = 'red', edgecolor='black')         \n",
        "ax[1].hist(sweden_coverage,density=False, weights=np.ones_like(sweden_coverage)*100./ len(sweden_coverage), color = 'yellow', edgecolor='black')\n",
        "ax[2].hist(finland_coverage,density=False, weights=np.ones_like(finland_coverage)*100./ len(finland_coverage), color = 'blue', edgecolor='black')\n",
        "ax[1].set(yticklabels=[])\n",
        "ax[2].set(yticklabels=[])\n",
        "ax[1].tick_params(left=False)\n",
        "ax[2].tick_params(left=False)\n",
        "ax[0].yaxis.set_major_formatter(PercentFormatter(xmax=100))\n",
        "\n",
        "#before lines\n",
        "# nb\n",
        "ax[0].axvline(nb_before.quantile(0.25),color='red',linestyle = 'dotted')\n",
        "ax[0].axvline(nb_before.mean(),color='black')\n",
        "ax[0].axvline(nb_before.quantile(0.75),color='red',linestyle = 'dotted')\n",
        "\n",
        "# sweden\n",
        "ax[1].axvline(sweden_before.quantile(0.25),color='red',linestyle = 'dotted')\n",
        "ax[1].axvline(sweden_before.mean(),color='black')\n",
        "ax[1].axvline(sweden_before.quantile(0.75),color='red',linestyle = 'dotted')\n",
        "# finland\n",
        "\n",
        "ax[2].axvline(finland_before.quantile(0.25),color='red',linestyle = 'dotted')\n",
        "ax[2].axvline(finland_before.mean(),color='black')\n",
        "ax[2].axvline(finland_before.quantile(0.75),color='red',linestyle = 'dotted')"
      ],
      "execution_count": 207,
      "outputs": [
        {
          "output_type": "execute_result",
          "data": {
            "text/plain": [
              "<matplotlib.lines.Line2D at 0x7f475936f710>"
            ]
          },
          "metadata": {},
          "execution_count": 207
        },
        {
          "output_type": "display_data",
          "data": {
            "image/png": "[encoded data removed]",
            "text/plain": [
              "<Figure size 1600x800 with 3 Axes>"
            ]
          },
          "metadata": {
            "needs_background": "light"
          }
        }
      ]
    },
    {
      "cell_type": "markdown",
      "metadata": {
        "id": "AqWTdPaH99mm"
      },
      "source": [
        "## Seaborne"
      ]
    },
    {
      "cell_type": "code",
      "metadata": {
        "id": "JcEd27n2_NGu"
      },
      "source": [
        ""
      ],
      "execution_count": null,
      "outputs": []
    }
  ]
}